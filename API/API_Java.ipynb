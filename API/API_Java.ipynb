{
 "cells": [
  {
   "cell_type": "code",
   "execution_count": 1,
   "metadata": {},
   "outputs": [],
   "source": [
    "import requests"
   ]
  },
  {
   "cell_type": "code",
   "execution_count": 2,
   "metadata": {},
   "outputs": [],
   "source": [
    "url = 'https://tpcg1.tutorialspoint.com/tpcg.php'"
   ]
  },
  {
   "cell_type": "code",
   "execution_count": 9,
   "metadata": {},
   "outputs": [
    {
     "name": "stdout",
     "output_type": "stream",
     "text": [
      "public class HelloWorld{public static void main(String []args){System.out.println(\"Hello World hi bro\");}}\n"
     ]
    }
   ],
   "source": [
    "code = 'public class HelloWorld{public static void main(String []args){System.out.println(\"Hello World hi bro\");}}'\n",
    "print(code)"
   ]
  },
  {
   "cell_type": "code",
   "execution_count": 10,
   "metadata": {},
   "outputs": [],
   "source": [
    "    data = {\n",
    "            'lang': 'java',\n",
    "            'device':'' ,\n",
    "            'code': code,\n",
    "            'stdinput': '',\n",
    "            'ext': 'java',\n",
    "            'compile': 'javac',\n",
    "            'execute': 'java -Xmx128M -Xms16M',\n",
    "            'mainfile': 'HelloWorld.java',\n",
    "            'uid': '9745043'\n",
    "        }"
   ]
  },
  {
   "cell_type": "code",
   "execution_count": 11,
   "metadata": {},
   "outputs": [],
   "source": [
    "r = requests.post(url, data=data)"
   ]
  },
  {
   "cell_type": "code",
   "execution_count": 12,
   "metadata": {},
   "outputs": [
    {
     "name": "stdout",
     "output_type": "stream",
     "text": [
      "b\"<span style='line-height: 25px;color:#484848;'><b>$javac HelloWorld.java</span></b><br><span style='line-height: 25px;color:#484848;'><b>$java -Xmx128M -Xms16M HelloWorld</b></span><br>Hello World hi bro\\n\"\n"
     ]
    }
   ],
   "source": [
    "string = r.content\n",
    "string = str(string)\n",
    "print(string)"
   ]
  },
  {
   "cell_type": "code",
   "execution_count": 13,
   "metadata": {},
   "outputs": [],
   "source": [
    "string = string.split(\"<br>\")"
   ]
  },
  {
   "cell_type": "code",
   "execution_count": 14,
   "metadata": {},
   "outputs": [
    {
     "name": "stdout",
     "output_type": "stream",
     "text": [
      "Hello World hi bro\n"
     ]
    }
   ],
   "source": [
    "output = string[len(string)-1]\n",
    "output = output[0:-3]\n",
    "print(output)"
   ]
  },
  {
   "cell_type": "code",
   "execution_count": null,
   "metadata": {},
   "outputs": [],
   "source": []
  }
 ],
 "metadata": {
  "kernelspec": {
   "display_name": "Python 3",
   "language": "python",
   "name": "python3"
  },
  "language_info": {
   "codemirror_mode": {
    "name": "ipython",
    "version": 3
   },
   "file_extension": ".py",
   "mimetype": "text/x-python",
   "name": "python",
   "nbconvert_exporter": "python",
   "pygments_lexer": "ipython3",
   "version": "3.8.5"
  }
 },
 "nbformat": 4,
 "nbformat_minor": 4
}
