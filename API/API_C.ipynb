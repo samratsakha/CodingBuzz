{
 "cells": [
  {
   "cell_type": "code",
   "execution_count": 1,
   "metadata": {},
   "outputs": [],
   "source": [
    "import requests"
   ]
  },
  {
   "cell_type": "code",
   "execution_count": 2,
   "metadata": {},
   "outputs": [],
   "source": [
    "url = 'https://tpcg1.tutorialspoint.com/tpcg.php'"
   ]
  },
  {
   "cell_type": "code",
   "execution_count": 19,
   "metadata": {},
   "outputs": [
    {
     "name": "stdout",
     "output_type": "stream",
     "text": [
      "#include <stdio.h>\n",
      "int main(){printf(\"Hello, World!\");return 0;}\n"
     ]
    }
   ],
   "source": [
    "code = '#include <stdio.h>\\nint main(){printf(\"Hello, World!\");return 0;}'\n",
    "print(code)"
   ]
  },
  {
   "cell_type": "code",
   "execution_count": 20,
   "metadata": {},
   "outputs": [],
   "source": [
    "    data = {\n",
    "            'lang': 'c',\n",
    "            'device':'' ,\n",
    "            'code': code,\n",
    "            'stdinput': '',\n",
    "            'ext': 'c',\n",
    "            'compile': 'gcc -o main *.c',\n",
    "            'execute': 'main',\n",
    "            'mainfile': 'main.c',\n",
    "            'uid': '9745043'\n",
    "        }"
   ]
  },
  {
   "cell_type": "code",
   "execution_count": 21,
   "metadata": {},
   "outputs": [],
   "source": [
    "r = requests.post(url, data=data)"
   ]
  },
  {
   "cell_type": "code",
   "execution_count": 22,
   "metadata": {},
   "outputs": [
    {
     "name": "stdout",
     "output_type": "stream",
     "text": [
      "b\"<span style='line-height: 25px;color:#484848;'><b>$gcc -o main *.c</span></b><br><span style='line-height: 25px;color:#484848;'><b>$main</b></span><br>Hello, World!\"\n"
     ]
    }
   ],
   "source": [
    "string = r.content\n",
    "string = str(string)\n",
    "print(string)"
   ]
  },
  {
   "cell_type": "code",
   "execution_count": 23,
   "metadata": {},
   "outputs": [],
   "source": [
    "string = string.split(\"<br>\")"
   ]
  },
  {
   "cell_type": "code",
   "execution_count": 24,
   "metadata": {},
   "outputs": [
    {
     "name": "stdout",
     "output_type": "stream",
     "text": [
      "Hello, World!\n"
     ]
    }
   ],
   "source": [
    "output = string[len(string)-1]\n",
    "output = output[0:-1]\n",
    "print(output)"
   ]
  },
  {
   "cell_type": "code",
   "execution_count": null,
   "metadata": {},
   "outputs": [],
   "source": []
  }
 ],
 "metadata": {
  "kernelspec": {
   "display_name": "Python 3",
   "language": "python",
   "name": "python3"
  },
  "language_info": {
   "codemirror_mode": {
    "name": "ipython",
    "version": 3
   },
   "file_extension": ".py",
   "mimetype": "text/x-python",
   "name": "python",
   "nbconvert_exporter": "python",
   "pygments_lexer": "ipython3",
   "version": "3.8.5"
  }
 },
 "nbformat": 4,
 "nbformat_minor": 4
}
