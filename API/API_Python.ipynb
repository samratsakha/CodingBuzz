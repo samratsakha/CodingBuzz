{
 "cells": [
  {
   "cell_type": "code",
   "execution_count": 1,
   "metadata": {},
   "outputs": [],
   "source": [
    "import requests"
   ]
  },
  {
   "cell_type": "code",
   "execution_count": 2,
   "metadata": {},
   "outputs": [],
   "source": [
    "url = 'https://tpcg1.tutorialspoint.com/tpcg.php'"
   ]
  },
  {
   "cell_type": "code",
   "execution_count": 9,
   "metadata": {},
   "outputs": [
    {
     "name": "stdout",
     "output_type": "stream",
     "text": [
      "num=int(input())\n",
      "mylist=input().split()\n",
      "array=[int(i) for i in mylist]\n",
      "print(array)\n"
     ]
    }
   ],
   "source": [
    "code = 'num=int(input())\\nmylist=input().split()\\narray=[int(i) for i in mylist]\\nprint(array)'\n",
    "print(code)"
   ]
  },
  {
   "cell_type": "code",
   "execution_count": 31,
   "metadata": {},
   "outputs": [],
   "source": [
    " data = {\n",
    "            'lang': 'python3',\n",
    "            'device':'' ,\n",
    "            'code': code,\n",
    "            'stdinput': '2\\n50 100',\n",
    "            'ext': 'py',\n",
    "            'compile': '0',\n",
    "            'execute': 'python3 main.py',\n",
    "            'mainfile': 'main.py',\n",
    "            'uid': '9745043'\n",
    "        }\n"
   ]
  },
  {
   "cell_type": "code",
   "execution_count": 32,
   "metadata": {},
   "outputs": [],
   "source": [
    "r = requests.post(url, data=data)"
   ]
  },
  {
   "cell_type": "code",
   "execution_count": 33,
   "metadata": {},
   "outputs": [
    {
     "name": "stdout",
     "output_type": "stream",
     "text": [
      "b\"<span style='line-height: 25px;color:#484848;'><b>$python3 main.py</b></span><br>[50, 100]\\n\"\n"
     ]
    }
   ],
   "source": [
    "string = r.content\n",
    "string = str(string)\n",
    "print(string)"
   ]
  },
  {
   "cell_type": "code",
   "execution_count": 34,
   "metadata": {},
   "outputs": [],
   "source": [
    "string = string.split(\"<br>\")"
   ]
  },
  {
   "cell_type": "code",
   "execution_count": 35,
   "metadata": {},
   "outputs": [
    {
     "name": "stdout",
     "output_type": "stream",
     "text": [
      "[50, 100]\n"
     ]
    }
   ],
   "source": [
    "output = string[len(string)-1]\n",
    "output = output[0:-3]\n",
    "print(output)"
   ]
  },
  {
   "cell_type": "code",
   "execution_count": null,
   "metadata": {},
   "outputs": [],
   "source": []
  }
 ],
 "metadata": {
  "kernelspec": {
   "display_name": "Python 3",
   "language": "python",
   "name": "python3"
  },
  "language_info": {
   "codemirror_mode": {
    "name": "ipython",
    "version": 3
   },
   "file_extension": ".py",
   "mimetype": "text/x-python",
   "name": "python",
   "nbconvert_exporter": "python",
   "pygments_lexer": "ipython3",
   "version": "3.8.5"
  }
 },
 "nbformat": 4,
 "nbformat_minor": 4
}
