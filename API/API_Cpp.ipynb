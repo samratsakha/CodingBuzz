{
 "cells": [
  {
   "cell_type": "code",
   "execution_count": 1,
   "metadata": {},
   "outputs": [],
   "source": [
    "import requests"
   ]
  },
  {
   "cell_type": "code",
   "execution_count": 2,
   "metadata": {},
   "outputs": [],
   "source": [
    "url = 'https://tpcg1.tutorialspoint.com/tpcg.php'"
   ]
  },
  {
   "cell_type": "code",
   "execution_count": 3,
   "metadata": {},
   "outputs": [
    {
     "name": "stdout",
     "output_type": "stream",
     "text": [
      "#include <stdio.h>\n",
      "int main(){ int x;int arr[x];scanf(\"%d\",&x);for(int i=0;i<x;i++){scanf(\"%d\",&arr[i]);}for(int i=0;i<x;i++){printf(\"%d \",arr[i]);}return 0;}\n"
     ]
    }
   ],
   "source": [
    "code = '#include <stdio.h>\\nint main(){ int x;int arr[x];scanf(\"%d\",&x);for(int i=0;i<x;i++){scanf(\"%d\",&arr[i]);}for(int i=0;i<x;i++){printf(\"%d \",arr[i]);}return 0;}'\n",
    "print(code)"
   ]
  },
  {
   "cell_type": "code",
   "execution_count": 4,
   "metadata": {},
   "outputs": [],
   "source": [
    "data = {\n",
    "    'lang': 'cpp',\n",
    "'device':'' ,\n",
    "'code': code,\n",
    "'stdinput': '5\\n1 2 3 4 5',\n",
    "'ext': 'cpp',\n",
    "'compile': 'g++ -o main *.cpp',\n",
    "'execute': 'main',\n",
    "'mainfile': 'main.cpp',\n",
    "'uid': '9745043'\n",
    "}"
   ]
  },
  {
   "cell_type": "code",
   "execution_count": 5,
   "metadata": {},
   "outputs": [],
   "source": [
    "r = requests.post(url, data=data)"
   ]
  },
  {
   "cell_type": "code",
   "execution_count": 6,
   "metadata": {},
   "outputs": [],
   "source": [
    "string = r.content\n",
    "string = str(string)"
   ]
  },
  {
   "cell_type": "code",
   "execution_count": 7,
   "metadata": {},
   "outputs": [],
   "source": [
    "string = string.split(\"<br>\")"
   ]
  },
  {
   "cell_type": "code",
   "execution_count": 8,
   "metadata": {},
   "outputs": [
    {
     "name": "stdout",
     "output_type": "stream",
     "text": [
      "1 2 3 4 5 \n"
     ]
    }
   ],
   "source": [
    "output = string[2]\n",
    "output = output[0:-1]\n",
    "print(output)"
   ]
  },
  {
   "cell_type": "code",
   "execution_count": null,
   "metadata": {},
   "outputs": [],
   "source": []
  }
 ],
 "metadata": {
  "kernelspec": {
   "display_name": "Python 3",
   "language": "python",
   "name": "python3"
  },
  "language_info": {
   "codemirror_mode": {
    "name": "ipython",
    "version": 3
   },
   "file_extension": ".py",
   "mimetype": "text/x-python",
   "name": "python",
   "nbconvert_exporter": "python",
   "pygments_lexer": "ipython3",
   "version": "3.8.5"
  }
 },
 "nbformat": 4,
 "nbformat_minor": 4
}
